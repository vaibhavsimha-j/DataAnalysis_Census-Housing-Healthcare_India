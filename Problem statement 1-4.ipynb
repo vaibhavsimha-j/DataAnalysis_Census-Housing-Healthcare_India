{
  "nbformat": 4,
  "nbformat_minor": 0,
  "metadata": {
    "colab": {
      "provenance": []
    },
    "kernelspec": {
      "name": "python3",
      "display_name": "Python 3"
    },
    "language_info": {
      "name": "python"
    }
  },
  "cells": [
    {
      "cell_type": "code",
      "execution_count": null,
      "metadata": {
        "id": "_Q6Hpv5-OJIZ",
        "colab": {
          "base_uri": "https://localhost:8080/"
        },
        "outputId": "023e496b-b2c4-4525-dbc1-f37fd7f65c6e"
      },
      "outputs": [
        {
          "output_type": "stream",
          "name": "stdout",
          "text": [
            "          State name District name  Population      Male    Female  Literate  \\\n",
            "0  JAMMU AND KASHMIR       Kupwara    870354.0  474190.0  396164.0  439654.0   \n",
            "1  JAMMU AND KASHMIR        Badgam    753745.0       NaN  355704.0  335649.0   \n",
            "2  JAMMU AND KASHMIR   Leh(Ladakh)    133487.0   78971.0   54516.0   93770.0   \n",
            "3  JAMMU AND KASHMIR        Kargil    140802.0       NaN   63017.0       NaN   \n",
            "4  JAMMU AND KASHMIR         Punch         NaN  251899.0  224936.0  261724.0   \n",
            "\n",
            "   Male_Literate  Female_Literate  Rural_Households  Urban_Households  \\\n",
            "0       282823.0         156831.0          158438.0               NaN   \n",
            "1       207741.0         127908.0          160649.0           27190.0   \n",
            "2        62834.0          30936.0           36920.0           17474.0   \n",
            "3        56301.0          29935.0           40370.0            7774.0   \n",
            "4       163333.0          98391.0          132139.0           15269.0   \n",
            "\n",
            "   Households  Age_Group_0_29  Age_Group_30_49  Age_Group_50  Age not stated  \n",
            "0    181664.0        600759.0         178435.0       89679.0          1481.0  \n",
            "1    187839.0        503223.0         160933.0       88978.0           611.0  \n",
            "2     54394.0         70703.0          41515.0           NaN           250.0  \n",
            "3     48144.0         87532.0          35561.0       17488.0           221.0  \n",
            "4    147408.0        304979.0         109818.0       61334.0           704.0  \n"
          ]
        }
      ],
      "source": [
        "# PROBLEM STATEMENT 1\n",
        "import pandas as pd\n",
        "census = pd.read_csv('/content/census_2011.csv')\n",
        "required_columns = ['State name','District name','Population','Male','Female','Literate','Male_Literate','Female_Literate','Rural_Households',\n",
        "                    'Urban_Households','Households','Age_Group_0_29','Age_Group_30_49','Age_Group_50','Age not stated']\n",
        "census_selected = census[required_columns]\n",
        "print(census_selected.head())"
      ]
    },
    {
      "cell_type": "code",
      "source": [
        "import pandas as pd\n",
        "data = {\n",
        "    'Department': ['Sales', 'Marketing', 'IT', 'HR', 'Sales', 'IT'],\n",
        "    'Employee': ['Alice', 'Bob', 'Charlie', 'David', 'Eva', 'Frank'],\n",
        "    'Salary': [70000, 48000, 110000, 50000, 72000, 95000]\n",
        "}\n",
        "\n",
        "df = pd.DataFrame(data)\n",
        "print(\"Original DataFrame:\")\n",
        "print(df)"
      ],
      "metadata": {
        "colab": {
          "base_uri": "https://localhost:8080/"
        },
        "id": "FVG4P286CYZr",
        "outputId": "0adab7c3-43b8-47e5-ac6c-6d95f8c4328f"
      },
      "execution_count": null,
      "outputs": [
        {
          "output_type": "stream",
          "name": "stdout",
          "text": [
            "Original DataFrame:\n",
            "  Department Employee  Salary\n",
            "0      Sales    Alice   70000\n",
            "1  Marketing      Bob   48000\n",
            "2         IT  Charlie  110000\n",
            "3         HR    David   50000\n",
            "4      Sales      Eva   72000\n",
            "5         IT    Frank   95000\n"
          ]
        }
      ]
    },
    {
      "cell_type": "code",
      "source": [
        "# PROBLEM STATEMENT 2\n",
        "census_selected = census_selected.rename(columns={\n",
        "    'State name': 'State/UT',\n",
        "    'District name': 'District',\n",
        "    'Male_Literate': 'Literate_Male',\n",
        "    'Female_Literate': 'Literate_Female',\n",
        "    'Rural_Households': 'Households_Rural',\n",
        "    'Urban_Households': 'Households_Urban',\n",
        "    'Age_Group_0_29': 'Young_and_Adult',\n",
        "    'Age_Group_30_49': 'Middle_Aged',\n",
        "    'Age_Group_50': 'Senior_Citizen',\n",
        "    'Age not stated': 'Age_Not_Stated'\n",
        "})\n",
        "census_data=census_selected\n",
        "print(census_data.head())"
      ],
      "metadata": {
        "id": "-RPbCRCJdECJ",
        "colab": {
          "base_uri": "https://localhost:8080/"
        },
        "outputId": "1066acfc-e00b-40f3-bc0e-26000d9a9c9a"
      },
      "execution_count": null,
      "outputs": [
        {
          "output_type": "stream",
          "name": "stdout",
          "text": [
            "            State/UT     District  Population      Male    Female  Literate  \\\n",
            "0  JAMMU AND KASHMIR      Kupwara    870354.0  474190.0  396164.0  439654.0   \n",
            "1  JAMMU AND KASHMIR       Badgam    753745.0       NaN  355704.0  335649.0   \n",
            "2  JAMMU AND KASHMIR  Leh(Ladakh)    133487.0   78971.0   54516.0   93770.0   \n",
            "3  JAMMU AND KASHMIR       Kargil    140802.0       NaN   63017.0       NaN   \n",
            "4  JAMMU AND KASHMIR        Punch         NaN  251899.0  224936.0  261724.0   \n",
            "\n",
            "   Literate_Male  Literate_Female  Households_Rural  Households_Urban  \\\n",
            "0       282823.0         156831.0          158438.0               NaN   \n",
            "1       207741.0         127908.0          160649.0           27190.0   \n",
            "2        62834.0          30936.0           36920.0           17474.0   \n",
            "3        56301.0          29935.0           40370.0            7774.0   \n",
            "4       163333.0          98391.0          132139.0           15269.0   \n",
            "\n",
            "   Households  Young_and_Adult  Middle_Aged  Senior_Citizen  Age_Not_Stated  \n",
            "0    181664.0         600759.0     178435.0         89679.0          1481.0  \n",
            "1    187839.0         503223.0     160933.0         88978.0           611.0  \n",
            "2     54394.0          70703.0      41515.0             NaN           250.0  \n",
            "3     48144.0          87532.0      35561.0         17488.0           221.0  \n",
            "4    147408.0         304979.0     109818.0         61334.0           704.0  \n"
          ]
        }
      ]
    },
    {
      "cell_type": "code",
      "source": [
        "# PROBLEM STATEMENT 3\n",
        "def capitalize_state_name(state):\n",
        "    words = state.lower().split()\n",
        "    capitalized_words = [word.capitalize() if word != 'and' else word for word in words]\n",
        "    return ' '.join(capitalized_words)\n",
        "census_data['State/UT'] = census_data['State/UT'].apply(capitalize_state_name)\n",
        "print(census_data.head())"
      ],
      "metadata": {
        "colab": {
          "base_uri": "https://localhost:8080/"
        },
        "id": "nY70EByddy23",
        "outputId": "6b70268e-f390-474c-b29f-faca2a9665b3"
      },
      "execution_count": null,
      "outputs": [
        {
          "output_type": "stream",
          "name": "stdout",
          "text": [
            "            State/UT     District  Population      Male    Female  Literate  \\\n",
            "0  Jammu and Kashmir      Kupwara    870354.0  474190.0  396164.0  439654.0   \n",
            "1  Jammu and Kashmir       Badgam    753745.0       NaN  355704.0  335649.0   \n",
            "2  Jammu and Kashmir  Leh(Ladakh)    133487.0   78971.0   54516.0   93770.0   \n",
            "3  Jammu and Kashmir       Kargil    140802.0       NaN   63017.0       NaN   \n",
            "4  Jammu and Kashmir        Punch         NaN  251899.0  224936.0  261724.0   \n",
            "\n",
            "   Literate_Male  Literate_Female  Households_Rural  Households_Urban  \\\n",
            "0       282823.0         156831.0          158438.0               NaN   \n",
            "1       207741.0         127908.0          160649.0           27190.0   \n",
            "2        62834.0          30936.0           36920.0           17474.0   \n",
            "3        56301.0          29935.0           40370.0            7774.0   \n",
            "4       163333.0          98391.0          132139.0           15269.0   \n",
            "\n",
            "   Households  Young_and_Adult  Middle_Aged  Senior_Citizen  Age_Not_Stated  \n",
            "0    181664.0         600759.0     178435.0         89679.0          1481.0  \n",
            "1    187839.0         503223.0     160933.0         88978.0           611.0  \n",
            "2     54394.0          70703.0      41515.0             NaN           250.0  \n",
            "3     48144.0          87532.0      35561.0         17488.0           221.0  \n",
            "4    147408.0         304979.0     109818.0         61334.0           704.0  \n"
          ]
        }
      ]
    },
    {
      "cell_type": "code",
      "source": [
        "# PROBLEM STATEMENT 4\n",
        "\n",
        "def read_districts_from_file(file_path):\n",
        "    with open(file_path, 'r') as file:\n",
        "        return set(line.strip() for line in file)\n",
        "df = pd.read_csv('census_2011.csv')\n",
        "\n",
        "telangana_districts = set(line.strip() for line in open('/content/Telangana.txt', 'r'))\n",
        "df.loc[df['District name'].isin(telangana_districts), 'State name'] = 'Telangana'\n",
        "ladakh_districts = {'Leh', 'Kargil'}\n",
        "df.loc[df['District name'].isin(ladakh_districts), 'State name'] = 'Ladakh'\n",
        "df.to_csv('census_2011_updated.csv', index=False)\n",
        "print(df)"
      ],
      "metadata": {
        "colab": {
          "base_uri": "https://localhost:8080/"
        },
        "id": "v15JHgYqd4ZO",
        "outputId": "fcf65abb-0f19-4c41-e68c-3361d3167832"
      },
      "execution_count": null,
      "outputs": [
        {
          "output_type": "stream",
          "name": "stdout",
          "text": [
            "     District code                   State name              District name  \\\n",
            "0                1            JAMMU AND KASHMIR                    Kupwara   \n",
            "1                2            JAMMU AND KASHMIR                     Badgam   \n",
            "2                3            JAMMU AND KASHMIR                Leh(Ladakh)   \n",
            "3                4                       Ladakh                     Kargil   \n",
            "4                5            JAMMU AND KASHMIR                      Punch   \n",
            "..             ...                          ...                        ...   \n",
            "635            636                  PONDICHERRY                       Mahe   \n",
            "636            637                  PONDICHERRY                   Karaikal   \n",
            "637            638  ANDAMAN AND NICOBAR ISLANDS                   Nicobars   \n",
            "638            639  ANDAMAN AND NICOBAR ISLANDS  North  AND Middle Andaman   \n",
            "639            640  ANDAMAN AND NICOBAR ISLANDS              South Andaman   \n",
            "\n",
            "     Population      Male    Female  Literate  Male_Literate  Female_Literate  \\\n",
            "0      870354.0  474190.0  396164.0  439654.0       282823.0         156831.0   \n",
            "1      753745.0       NaN  355704.0  335649.0       207741.0         127908.0   \n",
            "2      133487.0   78971.0   54516.0   93770.0        62834.0          30936.0   \n",
            "3      140802.0       NaN   63017.0       NaN        56301.0          29935.0   \n",
            "4           NaN  251899.0  224936.0  261724.0       163333.0          98391.0   \n",
            "..          ...       ...       ...       ...            ...              ...   \n",
            "635     41816.0   19143.0   22673.0   36470.0        16610.0          19860.0   \n",
            "636    200222.0   97809.0  102413.0  154916.0        79903.0          75013.0   \n",
            "637     36842.0   20727.0       NaN   25332.0        15397.0           9935.0   \n",
            "638    105597.0   54861.0   50736.0   78683.0        43186.0          35497.0   \n",
            "639         NaN  127283.0  110859.0  190266.0       105794.0          84472.0   \n",
            "\n",
            "          SC  ...  Power_Parity_Rs_90000_150000  Power_Parity_Rs_45000_150000  \\\n",
            "0     1048.0  ...                          94.0                         588.0   \n",
            "1        NaN  ...                         126.0                         562.0   \n",
            "2      488.0  ...                          46.0                         122.0   \n",
            "3       18.0  ...                          27.0                         114.0   \n",
            "4      556.0  ...                          78.0                         346.0   \n",
            "..       ...  ...                           ...                           ...   \n",
            "635    144.0  ...                        2316.0                        4309.0   \n",
            "636  35348.0  ...                        1063.0                        2408.0   \n",
            "637      0.0  ...                         685.0                        1895.0   \n",
            "638      0.0  ...                         685.0                        1895.0   \n",
            "639      0.0  ...                        1371.0                        3020.0   \n",
            "\n",
            "     Power_Parity_Rs_150000_240000  Power_Parity_Rs_240000_330000  \\\n",
            "0                             71.0                          101.0   \n",
            "1                             72.0                           89.0   \n",
            "2                             15.0                           22.0   \n",
            "3                             12.0                           18.0   \n",
            "4                             35.0                           50.0   \n",
            "..                             ...                            ...   \n",
            "635                         1370.0                          838.0   \n",
            "636                          665.0                          340.0   \n",
            "637                          212.0                          134.0   \n",
            "638                          212.0                            NaN   \n",
            "639                          649.0                          368.0   \n",
            "\n",
            "     Power_Parity_Rs_150000_330000  Power_Parity_Rs_330000_425000  \\\n",
            "0                            172.0                           74.0   \n",
            "1                            161.0                           96.0   \n",
            "2                              NaN                           20.0   \n",
            "3                             30.0                           19.0   \n",
            "4                             85.0                           59.0   \n",
            "..                             ...                            ...   \n",
            "635                         2208.0                          576.0   \n",
            "636                         1005.0                          246.0   \n",
            "637                          346.0                           70.0   \n",
            "638                          346.0                           70.0   \n",
            "639                         1017.0                          265.0   \n",
            "\n",
            "     Power_Parity_Rs_425000_545000  Power_Parity_Rs_330000_545000  \\\n",
            "0                             10.0                           84.0   \n",
            "1                             28.0                          124.0   \n",
            "2                              NaN                            NaN   \n",
            "3                              3.0                           22.0   \n",
            "4                              8.0                           67.0   \n",
            "..                             ...                            ...   \n",
            "635                          978.0                         1554.0   \n",
            "636                            NaN                          729.0   \n",
            "637                          120.0                          190.0   \n",
            "638                          120.0                          190.0   \n",
            "639                          497.0                          762.0   \n",
            "\n",
            "     Power_Parity_Above_Rs_545000  Total_Power_Parity  \n",
            "0                            15.0              1119.0  \n",
            "1                            18.0              1066.0  \n",
            "2                            17.0               242.0  \n",
            "3                             7.0               214.0  \n",
            "4                            12.0               629.0  \n",
            "..                            ...                 ...  \n",
            "635                        1446.0             10027.0  \n",
            "636                         341.0              4890.0  \n",
            "637                          84.0              3151.0  \n",
            "638                          84.0              3151.0  \n",
            "639                         376.0              5782.0  \n",
            "\n",
            "[640 rows x 118 columns]\n"
          ]
        }
      ]
    }
  ]
}